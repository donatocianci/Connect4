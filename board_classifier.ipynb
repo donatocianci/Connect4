{
 "cells": [
  {
   "cell_type": "code",
   "execution_count": 123,
   "metadata": {},
   "outputs": [],
   "source": [
    "import numpy as np\n",
    "import pickle\n",
    "import torch\n",
    "import matplotlib.pyplot as plt"
   ]
  },
  {
   "cell_type": "code",
   "execution_count": 124,
   "metadata": {},
   "outputs": [],
   "source": [
    "game_states = list( pickle.load( open( \"game_states.p\", \"rb\" ) ) )"
   ]
  },
  {
   "cell_type": "code",
   "execution_count": 125,
   "metadata": {},
   "outputs": [],
   "source": [
    "boards = list(zip(*game_states))[0]\n",
    "labels = list(zip(*game_states))[1]"
   ]
  },
  {
   "cell_type": "code",
   "execution_count": 126,
   "metadata": {},
   "outputs": [],
   "source": [
    "def preprocess_boards(boards,rows = 6,columns = 7, mark = 1):\n",
    "    \n",
    "    boards = torch.FloatTensor(boards)\n",
    "    num_boards = boards.shape[0]\n",
    "    \n",
    "    my_marks = boards == mark\n",
    "    my_marks = my_marks.float()\n",
    "    \n",
    "    opp_marks = torch.mul(boards != mark, boards >0)\n",
    "    opp_marks = -1*opp_marks.float()\n",
    "    \n",
    "    training_boards = torch.reshape( torch.cat((my_marks, opp_marks), 1), (-1,2,rows, columns) )\n",
    "    \n",
    "    return training_boards\n",
    "\n",
    "def preprocess_labels(labels):\n",
    "    \n",
    "    labels = torch.Tensor(labels).long()\n",
    "    \n",
    "    y = torch.zeros((labels.shape[0],3))\n",
    "    y[torch.arange(labels.shape[0]), labels] = 1.0\n",
    "    \n",
    "    \n",
    "    return y\n",
    "    \n",
    "X = preprocess_boards(boards)\n",
    "y = preprocess_labels(labels)\n",
    "X_f = torch.flip(X,dims = [3])\n",
    "\n",
    "X = torch.cat((X,X_f),0)\n",
    "y = torch.cat((y,y),0)"
   ]
  },
  {
   "cell_type": "code",
   "execution_count": 149,
   "metadata": {},
   "outputs": [],
   "source": [
    "class ConnectNet4(torch.nn.Module):\n",
    "    #set learning rate to 1e-2\n",
    "    #512 batch\n",
    "    def __init__(self):\n",
    "        \n",
    "        super(ConnectNet4, self).__init__()\n",
    "        \n",
    "        self.features = torch.nn.Sequential(\n",
    "                        torch.nn.Conv2d(in_channels = 2, out_channels = 128, kernel_size = 3, padding = 1), \n",
    "                        torch.nn.Conv2d(in_channels = 128, out_channels = 128, kernel_size = 2, stride = 2),\n",
    "                        torch.nn.Conv2d(in_channels = 128, out_channels = 128, kernel_size = 2, padding = (0,1)), \n",
    "                        torch.nn.MaxPool2d(kernel_size = (2,4))\n",
    "                        )\n",
    "        \n",
    "        self.classifier = torch.nn.Sequential(\n",
    "                        torch.nn.Linear(128,128),\n",
    "                        torch.nn.ReLU(),\n",
    "                        torch.nn.Linear(128, 3),\n",
    "                        torch.nn.Softmax(dim = 1)\n",
    "                        )\n",
    "        \n",
    "    def forward(self, x):\n",
    "        x = self.features(x)\n",
    "        x = torch.reshape(x,[-1,128])\n",
    "        x = self.classifier(x)\n",
    "        \n",
    "        return x\n",
    "\n",
    "class ConnectNetX(torch.nn.Module):\n",
    "    #set learning rate to 1e-2\n",
    "    #512 batch\n",
    "    def __init__(self):\n",
    "        \n",
    "        super(ConnectNet4, self).__init__()\n",
    "        \n",
    "        self.features = torch.nn.Sequential(\n",
    "                        torch.nn.Conv2d(in_channels = 2, out_channels = 128, kernel_size = 4, padding = 1), \n",
    "                        torch.nn.Conv2d(in_channels = 128, out_channels = 128, kernel_size = 2, stride = 2),\n",
    "                        torch.nn.Conv2d(in_channels = 128, out_channels = 256, kernel_size = 2, padding = (0,1)), \n",
    "                        torch.nn.MaxPool2d(kernel_size = (1,4))\n",
    "                        )\n",
    "        \n",
    "        self.classifier = torch.nn.Sequential(\n",
    "                        torch.nn.Linear(256,128),\n",
    "                        torch.nn.ReLU(),\n",
    "                        torch.nn.Linear(128, 3),\n",
    "                        torch.nn.Softmax(dim = 1)\n",
    "                        )\n",
    "        \n",
    "    def forward(self, x):\n",
    "        x = self.features(x)\n",
    "        x = torch.reshape(x,[-1,256])\n",
    "        x = self.classifier(x)\n",
    "        \n",
    "        return x\n",
    "\n",
    "class ConnectNet5(torch.nn.Module):\n",
    "    # set learning rate to 1e-3\n",
    "    # 256 batch \n",
    "    def __init__(self):\n",
    "        \n",
    "        super(ConnectNet5, self).__init__()\n",
    "        \n",
    "        self.features = torch.nn.Sequential(\n",
    "                        torch.nn.Conv2d(in_channels = 2, out_channels = 64, kernel_size = 5, padding = 2),\n",
    "                        torch.nn.MaxPool2d(kernel_size = 2, stride=1),\n",
    "                        torch.nn.Conv2d(in_channels = 64, out_channels = 128, kernel_size = (2,3)),\n",
    "                        torch.nn.MaxPool2d(kernel_size = 4)\n",
    "                        )\n",
    "        \n",
    "        self.classifier = torch.nn.Sequential(\n",
    "                        torch.nn.Linear(128,128),\n",
    "                        torch.nn.ReLU(),\n",
    "                        torch.nn.Linear(128, 64),\n",
    "                        torch.nn.ReLU(),\n",
    "                        torch.nn.Linear(64,3),\n",
    "                        torch.nn.Softmax(dim = 1)\n",
    "                        )\n",
    "        \n",
    "    def forward(self, x):\n",
    "        x = self.features(x)\n",
    "        x = torch.reshape(x,[-1,128])\n",
    "        x = self.classifier(x)\n",
    "        \n",
    "        return x\n",
    "    "
   ]
  },
  {
   "cell_type": "code",
   "execution_count": 147,
   "metadata": {},
   "outputs": [],
   "source": [
    "model = ConnectNet4()\n",
    "\n",
    "loss_fn = torch.nn.BCELoss()"
   ]
  },
  {
   "cell_type": "code",
   "execution_count": 148,
   "metadata": {},
   "outputs": [],
   "source": [
    "learning_rate_base = 1e-3\n",
    "optimizer = torch.optim.Adam(model.parameters(), lr=learning_rate_base, amsgrad = True)\n",
    "\n",
    "num_epochs = 3000\n",
    "N = X.shape[0]\n",
    "perm = torch.randperm(N)\n",
    "batch_size = 512\n",
    "loss_record = []\n",
    "\n",
    "for t in range(num_epochs):\n",
    "    learning_rate =  learning_rate_base / (1 + 0.0001 * t) \n",
    "    for param_group in optimizer.param_groups:\n",
    "        param_group['lr'] = learning_rate\n",
    "    \n",
    "    indices = perm[t*batch_size:(t+1) * batch_size]\n",
    "    x_batch, y_batch = X[indices], y[indices]\n",
    "    \n",
    "    y_pred = model.forward(x_batch)\n",
    "    \n",
    "    loss = loss_fn(y_pred, y_batch)\n",
    "    \n",
    "    if t%100==0:\n",
    "        loss_record.append(loss.item())\n",
    "    \n",
    "    optimizer.zero_grad()\n",
    "    loss.backward()\n",
    "    optimizer.step()"
   ]
  },
  {
   "cell_type": "code",
   "execution_count": 150,
   "metadata": {},
   "outputs": [
    {
     "data": {
      "image/png": "[encoded data removed]",
      "text/plain": [
       "<Figure size 576x432 with 1 Axes>"
      ]
     },
     "metadata": {
      "needs_background": "light"
     },
     "output_type": "display_data"
    }
   ],
   "source": [
    "%matplotlib inline\n",
    "\n",
    "plt.figure(figsize=(8,6))\n",
    "plt.plot(np.arange(len(loss_record)),loss_record,'ko-',\n",
    "          linewidth=2, markersize=6)\n",
    "\n",
    "plt.xlabel(\"100 Epochs\", size=14)\n",
    "\n",
    "plt.show()"
   ]
  },
  {
   "cell_type": "code",
   "execution_count": 66,
   "metadata": {},
   "outputs": [],
   "source": [
    "test_game_states = list( pickle.load( open( \"test_game_states.p\", \"rb\" ) ) )"
   ]
  },
  {
   "cell_type": "code",
   "execution_count": 67,
   "metadata": {},
   "outputs": [],
   "source": [
    "boards = list(zip(*test_game_states))[0]\n",
    "labels = list(zip(*test_game_states))[1]"
   ]
  },
  {
   "cell_type": "code",
   "execution_count": 68,
   "metadata": {},
   "outputs": [],
   "source": [
    "cv_boards = boards[0:150000]\n",
    "cv_labels = labels[0:150000]\n",
    "\n",
    "test_boards = boards[150000:]\n",
    "test_labels = labels[150000:]"
   ]
  },
  {
   "cell_type": "code",
   "execution_count": 69,
   "metadata": {},
   "outputs": [],
   "source": [
    "X_cv = preprocess_boards(cv_boards)\n",
    "y_cv = preprocess_labels(cv_labels)"
   ]
  },
  {
   "cell_type": "code",
   "execution_count": 151,
   "metadata": {},
   "outputs": [],
   "source": [
    "y_pred = model(X_cv)\n",
    "_, arg_max = torch.max(y_pred, dim = 1)\n",
    "_, y_cv_arg_max = torch.max(y_cv, dim = 1)"
   ]
  },
  {
   "cell_type": "code",
   "execution_count": 152,
   "metadata": {},
   "outputs": [
    {
     "data": {
      "text/plain": [
       "0.993773341178894"
      ]
     },
     "execution_count": 152,
     "metadata": {},
     "output_type": "execute_result"
    }
   ],
   "source": [
    "torch.mean((arg_max== y_cv_arg_max).float() ).item()"
   ]
  },
  {
   "cell_type": "code",
   "execution_count": 153,
   "metadata": {},
   "outputs": [],
   "source": [
    "bad_boards = X_cv[(arg_max!= y_cv_arg_max)]"
   ]
  },
  {
   "cell_type": "code",
   "execution_count": 137,
   "metadata": {},
   "outputs": [
    {
     "data": {
      "text/plain": [
       "tensor([[[[ 0.,  0.,  0.,  0.,  0.,  0.,  0.],\n",
       "          [ 0.,  0.,  1.,  0.,  0.,  0.,  0.],\n",
       "          [ 0.,  1.,  1.,  1.,  0.,  0.,  0.],\n",
       "          [ 0.,  1.,  1.,  0.,  1.,  1.,  0.],\n",
       "          [ 0.,  0.,  0.,  1.,  0.,  0.,  0.],\n",
       "          [ 1.,  1.,  0.,  1.,  0.,  0.,  1.]],\n",
       "\n",
       "         [[-0., -0., -0., -0., -0., -0., -0.],\n",
       "          [-0., -0., -0., -0., -0., -0., -0.],\n",
       "          [-0., -0., -0., -0., -1., -0., -1.],\n",
       "          [-0., -0., -0., -1., -0., -0., -1.],\n",
       "          [-1., -1., -1., -0., -1., -1., -1.],\n",
       "          [-0., -0., -1., -0., -1., -1., -0.]]],\n",
       "\n",
       "\n",
       "        [[[ 0.,  1.,  0.,  0.,  1.,  0.,  0.],\n",
       "          [ 1.,  0.,  0.,  1.,  1.,  0.,  0.],\n",
       "          [ 0.,  0.,  1.,  1.,  0.,  1.,  1.],\n",
       "          [ 0.,  0.,  0.,  1.,  1.,  0.,  0.],\n",
       "          [ 1.,  1.,  1.,  0.,  0.,  1.,  1.],\n",
       "          [ 0.,  0.,  1.,  0.,  1.,  1.,  0.]],\n",
       "\n",
       "         [[-0., -0., -0., -0., -0., -1., -1.],\n",
       "          [-0., -1., -1., -0., -0., -1., -1.],\n",
       "          [-1., -1., -0., -0., -1., -0., -0.],\n",
       "          [-1., -1., -1., -0., -0., -1., -1.],\n",
       "          [-0., -0., -0., -1., -1., -0., -0.],\n",
       "          [-1., -1., -0., -1., -0., -0., -1.]]],\n",
       "\n",
       "\n",
       "        [[[ 0.,  0.,  0.,  0.,  0.,  0.,  0.],\n",
       "          [ 0.,  0.,  0.,  0.,  0.,  0.,  0.],\n",
       "          [ 1.,  0.,  0.,  0.,  0.,  0.,  1.],\n",
       "          [ 0.,  1.,  0.,  0.,  1.,  1.,  0.],\n",
       "          [ 0.,  1.,  1.,  0.,  1.,  1.,  0.],\n",
       "          [ 1.,  0.,  0.,  0.,  1.,  0.,  1.]],\n",
       "\n",
       "         [[-1., -0., -0., -0., -0., -0., -0.],\n",
       "          [-1., -0., -0., -0., -0., -1., -0.],\n",
       "          [-0., -1., -0., -0., -0., -1., -0.],\n",
       "          [-1., -0., -1., -0., -0., -0., -1.],\n",
       "          [-1., -0., -0., -0., -0., -0., -1.],\n",
       "          [-0., -1., -1., -0., -0., -1., -0.]]],\n",
       "\n",
       "\n",
       "        [[[ 0.,  0.,  0.,  0.,  0.,  0.,  1.],\n",
       "          [ 0.,  1.,  0.,  1.,  0.,  0.,  1.],\n",
       "          [ 0.,  0.,  1.,  1.,  0.,  0.,  0.],\n",
       "          [ 1.,  1.,  0.,  1.,  1.,  0.,  0.],\n",
       "          [ 0.,  1.,  0.,  0.,  0.,  0.,  1.],\n",
       "          [ 1.,  0.,  1.,  1.,  1.,  0.,  0.]],\n",
       "\n",
       "         [[-0., -1., -0., -1., -1., -0., -0.],\n",
       "          [-0., -0., -0., -0., -1., -0., -0.],\n",
       "          [-0., -1., -0., -0., -1., -0., -1.],\n",
       "          [-0., -0., -1., -0., -0., -0., -1.],\n",
       "          [-1., -0., -1., -1., -1., -0., -0.],\n",
       "          [-0., -1., -0., -0., -0., -1., -1.]]],\n",
       "\n",
       "\n",
       "        [[[ 0.,  0.,  0.,  0.,  0.,  0.,  0.],\n",
       "          [ 0.,  0.,  1.,  0.,  0.,  0.,  0.],\n",
       "          [ 0.,  1.,  0.,  1.,  0.,  0.,  0.],\n",
       "          [ 1.,  1.,  1.,  0.,  0.,  0.,  0.],\n",
       "          [ 0.,  1.,  0.,  1.,  1.,  0.,  0.],\n",
       "          [ 0.,  0.,  1.,  1.,  0.,  1.,  1.]],\n",
       "\n",
       "         [[-0., -0., -0., -0., -0., -0., -0.],\n",
       "          [-0., -0., -0., -1., -0., -0., -0.],\n",
       "          [-1., -0., -1., -0., -0., -0., -0.],\n",
       "          [-0., -0., -0., -1., -0., -1., -1.],\n",
       "          [-1., -0., -1., -0., -0., -1., -1.],\n",
       "          [-1., -1., -0., -0., -1., -0., -0.]]],\n",
       "\n",
       "\n",
       "        [[[ 0.,  0.,  0.,  0.,  0.,  0.,  0.],\n",
       "          [ 1.,  0.,  0.,  0.,  0.,  0.,  0.],\n",
       "          [ 1.,  0.,  0.,  0.,  0.,  0.,  0.],\n",
       "          [ 1.,  1.,  0.,  1.,  0.,  0.,  1.],\n",
       "          [ 0.,  0.,  1.,  0.,  1.,  0.,  0.],\n",
       "          [ 1.,  1.,  0.,  0.,  1.,  0.,  0.]],\n",
       "\n",
       "         [[-0., -0., -0., -0., -0., -0., -0.],\n",
       "          [-0., -1., -0., -0., -0., -0., -0.],\n",
       "          [-0., -1., -0., -0., -0., -0., -0.],\n",
       "          [-0., -0., -0., -0., -0., -1., -0.],\n",
       "          [-1., -1., -0., -1., -0., -1., -1.],\n",
       "          [-0., -0., -1., -1., -0., -1., -1.]]],\n",
       "\n",
       "\n",
       "        [[[ 0.,  0.,  0.,  0.,  0.,  0.,  0.],\n",
       "          [ 0.,  1.,  1.,  0.,  0.,  0.,  0.],\n",
       "          [ 0.,  1.,  0.,  1.,  0.,  0.,  0.],\n",
       "          [ 1.,  0.,  0.,  0.,  1.,  0.,  0.],\n",
       "          [ 1.,  0.,  1.,  1.,  0.,  0.,  0.],\n",
       "          [ 0.,  1.,  0.,  1.,  1.,  1.,  0.]],\n",
       "\n",
       "         [[-0., -1., -1., -0., -0., -0., -0.],\n",
       "          [-0., -0., -0., -0., -0., -0., -0.],\n",
       "          [-0., -0., -1., -0., -1., -0., -0.],\n",
       "          [-0., -1., -1., -1., -0., -0., -0.],\n",
       "          [-0., -1., -0., -0., -1., -1., -0.],\n",
       "          [-1., -0., -1., -0., -0., -0., -1.]]],\n",
       "\n",
       "\n",
       "        [[[ 1.,  0.,  1.,  0.,  1.,  0.,  0.],\n",
       "          [ 0.,  0.,  0.,  1.,  0.,  1.,  1.],\n",
       "          [ 1.,  0.,  1.,  1.,  1.,  0.,  0.],\n",
       "          [ 1.,  0.,  1.,  0.,  1.,  0.,  1.],\n",
       "          [ 0.,  1.,  0.,  0.,  1.,  0.,  0.],\n",
       "          [ 0.,  0.,  0.,  1.,  0.,  1.,  1.]],\n",
       "\n",
       "         [[-0., -0., -0., -1., -0., -1., -1.],\n",
       "          [-1., -0., -1., -0., -1., -0., -0.],\n",
       "          [-0., -0., -0., -0., -0., -1., -1.],\n",
       "          [-0., -1., -0., -1., -0., -1., -0.],\n",
       "          [-1., -0., -1., -1., -0., -1., -1.],\n",
       "          [-1., -1., -1., -0., -1., -0., -0.]]],\n",
       "\n",
       "\n",
       "        [[[ 1.,  0.,  0.,  0.,  0.,  0.,  0.],\n",
       "          [ 0.,  0.,  0.,  1.,  1.,  0.,  0.],\n",
       "          [ 1.,  0.,  0.,  1.,  0.,  0.,  0.],\n",
       "          [ 1.,  0.,  1.,  1.,  1.,  0.,  0.],\n",
       "          [ 0.,  0.,  1.,  0.,  1.,  0.,  0.],\n",
       "          [ 1.,  0.,  0.,  0.,  1.,  1.,  1.]],\n",
       "\n",
       "         [[-0., -0., -0., -1., -1., -0., -0.],\n",
       "          [-1., -0., -0., -0., -0., -0., -0.],\n",
       "          [-0., -0., -0., -0., -1., -1., -0.],\n",
       "          [-0., -1., -0., -0., -0., -1., -1.],\n",
       "          [-1., -1., -0., -1., -0., -1., -1.],\n",
       "          [-0., -1., -1., -1., -0., -0., -0.]]],\n",
       "\n",
       "\n",
       "        [[[ 0.,  0.,  0.,  0.,  0.,  0.,  0.],\n",
       "          [ 0.,  1.,  1.,  1.,  0.,  0.,  0.],\n",
       "          [ 0.,  0.,  1.,  1.,  0.,  0.,  0.],\n",
       "          [ 0.,  0.,  0.,  1.,  0.,  0.,  0.],\n",
       "          [ 1.,  0.,  1.,  0.,  0.,  0.,  1.],\n",
       "          [ 1.,  1.,  1.,  0.,  1.,  1.,  0.]],\n",
       "\n",
       "         [[-0., -0., -0., -1., -0., -0., -0.],\n",
       "          [-0., -0., -0., -0., -0., -0., -0.],\n",
       "          [-0., -1., -0., -0., -0., -1., -0.],\n",
       "          [-0., -1., -1., -0., -1., -1., -1.],\n",
       "          [-0., -1., -0., -1., -1., -1., -0.],\n",
       "          [-0., -0., -0., -1., -0., -0., -1.]]]])"
      ]
     },
     "execution_count": 137,
     "metadata": {},
     "output_type": "execute_result"
    }
   ],
   "source": [
    "bad_boards[0:10]"
   ]
  },
  {
   "cell_type": "code",
   "execution_count": 154,
   "metadata": {},
   "outputs": [],
   "source": [
    "bad_preds = y_pred[(arg_max!= y_cv_arg_max)]"
   ]
  },
  {
   "cell_type": "code",
   "execution_count": 142,
   "metadata": {},
   "outputs": [
    {
     "name": "stdout",
     "output_type": "stream",
     "text": [
      "torch.Size([10, 2, 6, 7])\n",
      "torch.Size([10, 128, 6, 7])\n",
      "torch.Size([10, 128, 3, 3])\n",
      "torch.Size([10, 128, 2, 4])\n",
      "torch.Size([10, 128, 1, 1])\n"
     ]
    }
   ],
   "source": [
    "seq = (torch.nn.Conv2d(in_channels = 2, out_channels = 128, kernel_size = 3, padding = 1), \n",
    "                        torch.nn.Conv2d(in_channels = 128, out_channels = 128, kernel_size = 2, stride = 2),\n",
    "                        torch.nn.Conv2d(in_channels = 128, out_channels = 128, kernel_size = 2, padding = (0,1)), \n",
    "                        torch.nn.MaxPool2d(kernel_size = (2,4)))\n",
    "\n",
    "def seq_check(seq, X_in):\n",
    "    y = X_in\n",
    "    print(y.shape)\n",
    "    for layer in seq:\n",
    "        y = layer(y)\n",
    "        print(y.shape)\n",
    "        \n",
    "seq_check(seq, X[0:10])"
   ]
  },
  {
   "cell_type": "code",
   "execution_count": 158,
   "metadata": {},
   "outputs": [
    {
     "data": {
      "text/plain": [
       "tensor([[[[ 0.,  0.,  0.,  0.,  1.,  1.,  0.],\n",
       "          [ 0.,  1.,  0.,  0.,  0.,  0.,  0.],\n",
       "          [ 0.,  0.,  0.,  0.,  1.,  0.,  0.],\n",
       "          [ 1.,  1.,  0.,  0.,  0.,  1.,  1.],\n",
       "          [ 1.,  0.,  0.,  0.,  1.,  0.,  1.],\n",
       "          [ 1.,  0.,  0.,  0.,  1.,  0.,  1.]],\n",
       "\n",
       "         [[-0., -1., -0., -0., -0., -0., -0.],\n",
       "          [-0., -0., -0., -0., -1., -1., -1.],\n",
       "          [-0., -1., -0., -0., -0., -1., -1.],\n",
       "          [-0., -0., -0., -0., -1., -0., -0.],\n",
       "          [-0., -1., -0., -0., -0., -1., -0.],\n",
       "          [-0., -1., -1., -1., -0., -1., -0.]]],\n",
       "\n",
       "\n",
       "        [[[ 0.,  0.,  0.,  0.,  0.,  0.,  0.],\n",
       "          [ 0.,  0.,  0.,  0.,  0.,  1.,  1.],\n",
       "          [ 0.,  0.,  0.,  0.,  0.,  0.,  1.],\n",
       "          [ 1.,  0.,  0.,  1.,  0.,  1.,  1.],\n",
       "          [ 1.,  1.,  0.,  0.,  1.,  1.,  0.],\n",
       "          [ 1.,  1.,  1.,  0.,  0.,  0.,  1.]],\n",
       "\n",
       "         [[-1., -0., -0., -1., -0., -0., -0.],\n",
       "          [-1., -0., -0., -1., -0., -0., -0.],\n",
       "          [-1., -0., -0., -1., -1., -1., -0.],\n",
       "          [-0., -1., -0., -0., -1., -0., -0.],\n",
       "          [-0., -0., -0., -1., -0., -0., -1.],\n",
       "          [-0., -0., -0., -1., -1., -1., -0.]]],\n",
       "\n",
       "\n",
       "        [[[ 0.,  0.,  0.,  0.,  0.,  0.,  0.],\n",
       "          [ 0.,  1.,  0.,  0.,  1.,  1.,  0.],\n",
       "          [ 1.,  0.,  0.,  0.,  1.,  1.,  0.],\n",
       "          [ 0.,  1.,  1.,  0.,  0.,  0.,  0.],\n",
       "          [ 0.,  1.,  0.,  0.,  1.,  1.,  1.],\n",
       "          [ 1.,  1.,  0.,  0.,  1.,  0.,  1.]],\n",
       "\n",
       "         [[-0., -0., -0., -0., -1., -0., -0.],\n",
       "          [-1., -0., -1., -0., -0., -0., -0.],\n",
       "          [-0., -1., -1., -0., -0., -0., -0.],\n",
       "          [-1., -0., -0., -0., -1., -1., -1.],\n",
       "          [-1., -0., -1., -1., -0., -0., -0.],\n",
       "          [-0., -0., -1., -1., -0., -1., -0.]]],\n",
       "\n",
       "\n",
       "        [[[ 0.,  0.,  0.,  1.,  0.,  1.,  0.],\n",
       "          [ 1.,  0.,  0.,  1.,  1.,  1.,  0.],\n",
       "          [ 0.,  1.,  0.,  1.,  0.,  1.,  0.],\n",
       "          [ 1.,  0.,  0.,  0.,  1.,  0.,  0.],\n",
       "          [ 0.,  0.,  0.,  1.,  1.,  0.,  1.],\n",
       "          [ 0.,  1.,  0.,  0.,  0.,  1.,  1.]],\n",
       "\n",
       "         [[-0., -1., -0., -0., -1., -0., -0.],\n",
       "          [-0., -1., -0., -0., -0., -0., -0.],\n",
       "          [-1., -0., -0., -0., -1., -0., -0.],\n",
       "          [-0., -1., -0., -1., -0., -1., -1.],\n",
       "          [-1., -1., -0., -0., -0., -1., -0.],\n",
       "          [-1., -0., -1., -1., -1., -0., -0.]]],\n",
       "\n",
       "\n",
       "        [[[ 0.,  0.,  0.,  0.,  0.,  0.,  0.],\n",
       "          [ 0.,  0.,  0.,  1.,  0.,  0.,  0.],\n",
       "          [ 0.,  0.,  0.,  1.,  1.,  0.,  1.],\n",
       "          [ 1.,  0.,  0.,  0.,  0.,  1.,  1.],\n",
       "          [ 1.,  1.,  0.,  0.,  1.,  1.,  0.],\n",
       "          [ 0.,  0.,  1.,  0.,  1.,  0.,  0.]],\n",
       "\n",
       "         [[-0., -0., -0., -0., -0., -0., -1.],\n",
       "          [-1., -0., -0., -0., -0., -0., -1.],\n",
       "          [-1., -0., -0., -0., -0., -1., -0.],\n",
       "          [-0., -0., -0., -1., -1., -0., -0.],\n",
       "          [-0., -0., -0., -1., -0., -0., -1.],\n",
       "          [-1., -1., -0., -1., -0., -1., -1.]]]])"
      ]
     },
     "execution_count": 158,
     "metadata": {},
     "output_type": "execute_result"
    }
   ],
   "source": [
    "bad_boards[5:10]\n"
   ]
  },
  {
   "cell_type": "code",
   "execution_count": 157,
   "metadata": {},
   "outputs": [
    {
     "data": {
      "text/plain": [
       "tensor([[4.3083e-01, 6.9683e-03, 5.6220e-01],\n",
       "        [2.0321e-01, 9.3504e-05, 7.9670e-01],\n",
       "        [3.8398e-01, 8.2595e-04, 6.1519e-01],\n",
       "        [2.9592e-01, 7.0400e-01, 7.6874e-05],\n",
       "        [4.6970e-01, 1.1853e-01, 4.1177e-01]], grad_fn=<SliceBackward>)"
      ]
     },
     "execution_count": 157,
     "metadata": {},
     "output_type": "execute_result"
    }
   ],
   "source": [
    "bad_preds[5:10]"
   ]
  },
  {
   "cell_type": "code",
   "execution_count": 159,
   "metadata": {},
   "outputs": [],
   "source": [
    "X_test = preprocess_boards(test_boards)\n",
    "y_test = preprocess_labels(test_labels)"
   ]
  },
  {
   "cell_type": "code",
   "execution_count": 160,
   "metadata": {},
   "outputs": [],
   "source": [
    "y_pred = model(X_test)\n",
    "_, arg_max = torch.max(y_pred, dim = 1)\n",
    "_, y_test_arg_max = torch.max(y_test, dim = 1)"
   ]
  },
  {
   "cell_type": "code",
   "execution_count": 161,
   "metadata": {},
   "outputs": [
    {
     "data": {
      "text/plain": [
       "0.9935485124588013"
      ]
     },
     "execution_count": 161,
     "metadata": {},
     "output_type": "execute_result"
    }
   ],
   "source": [
    "torch.mean((arg_max== y_test_arg_max).float() ).item()"
   ]
  },
  {
   "cell_type": "code",
   "execution_count": null,
   "metadata": {},
   "outputs": [],
   "source": [
    "torch.save(model.state_dict(), '')"
   ]
  }
 ],
 "metadata": {
  "kernelspec": {
   "display_name": "Python 3",
   "language": "python",
   "name": "python3"
  },
  "language_info": {
   "codemirror_mode": {
    "name": "ipython",
    "version": 3
   },
   "file_extension": ".py",
   "mimetype": "text/x-python",
   "name": "python",
   "nbconvert_exporter": "python",
   "pygments_lexer": "ipython3",
   "version": "3.7.6"
  }
 },
 "nbformat": 4,
 "nbformat_minor": 4
}
